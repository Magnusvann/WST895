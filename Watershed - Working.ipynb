{
 "metadata": {
  "name": "",
  "signature": "sha256:64f0fac75c795d08fd66ce092e6a6392090ff2ccf9559695947152c1892ca635"
 },
 "nbformat": 3,
 "nbformat_minor": 0,
 "worksheets": [
  {
   "cells": [
    {
     "cell_type": "code",
     "collapsed": false,
     "input": [
      "import matplotlib.pyplot as plt\n",
      "import numpy as np\n",
      "import demo as d\n",
      "from skimage.filter import threshold_otsu, rank\n",
      "from skimage.morphology import disk, watershed\n",
      "from scipy import ndimage\n",
      "from skimage.io import imsave\n",
      "\n",
      "\n",
      "img = d.load_image(\"am_buildings_S&P_20_noisy.jpg\").astype(np.uint8)\n",
      "bin_img_ori = (d.load_image(\"buildings_bin_ori.jpg\")>125)*1\n",
      "\n",
      "\n",
      "\n",
      "mark_grad = rank.gradient(img, disk(3))\n",
      "imsave(\"./output/mark_grad.jpg\",mark_grad)\n",
      "mark_grad_thresh = ((mark_grad < 20)*1) #(threshold_otsu(mark_grad)  )\n",
      "#print mark_grad_thresh.shape, mark_grad_thresh.dtype, np.min(mark_grad_thresh), np.max(mark_grad_thresh)\n",
      "imsave(\"./output/mark_grad_thresh.jpg\",(mark_grad_thresh>0)*255)\n",
      "markers = ndimage.label(mark_grad_thresh)[0]\n",
      "imsave(\"./output/markers.jpg\",markers*255/np.max(markers))\n",
      "#print markers.shape, markers.dtype, np.min(markers), np.max(markers)\n",
      "\n",
      "local_grad = rank.gradient(img, disk(1))\n",
      "imsave(\"./output/local_grad.jpg\",local_grad)\n",
      "labels = watershed(local_grad, markers)!=1\n",
      "\n",
      "imsave(\"./output/labels.jpg\",labels*255/np.max(labels))\n",
      "\n",
      "comb = np.clip(bin_img_ori + labels ,0,1)\n",
      "sens = float(np.sum(np.logical_and(labels == bin_img_ori,bin_img_ori!=0)))/float(np.sum(comb))\n",
      "diff = comb - np.logical_and(labels == bin_img_ori,bin_img_ori!=0)\n",
      "print sens\n",
      "\n",
      "imsave(\"./output/result.jpg\",img*labels)\n",
      "\n",
      "\n",
      "\n"
     ],
     "language": "python",
     "metadata": {},
     "outputs": [
      {
       "output_type": "stream",
       "stream": "stdout",
       "text": [
        "0.932401941792\n"
       ]
      }
     ],
     "prompt_number": 131
    },
    {
     "cell_type": "code",
     "collapsed": false,
     "input": [
      "\n",
      "plt.subplot(241)\n",
      "plt.imshow(img, interpolation='nearest', cmap=plt.cm.gray)\n",
      "plt.title('Original Image')\n",
      "plt.xticks([])\n",
      "plt.yticks([])\n",
      "\n",
      "plt.subplot(242)\n",
      "plt.imshow(bin_img_ori, interpolation='nearest', cmap=plt.cm.gray)\n",
      "plt.title('Original Binary Image')\n",
      "plt.xticks([])\n",
      "plt.yticks([])\n",
      "\n",
      "plt.subplot(243)\n",
      "plt.imshow(mark_grad, interpolation='nearest', cmap=plt.cm.gray)\n",
      "plt.title('Marker Gradient Image')\n",
      "plt.xticks([])\n",
      "plt.yticks([])\n",
      "\n",
      "plt.subplot(244)\n",
      "plt.imshow(mark_grad_thresh, interpolation='nearest', cmap=plt.cm.gray)\n",
      "plt.title('Marker Gradient Thresholded')\n",
      "plt.xticks([])\n",
      "plt.yticks([])\n",
      "\n",
      "plt.subplot(245)\n",
      "plt.imshow(markers, interpolation='nearest', cmap=plt.cm.gray)\n",
      "plt.title('Markers')\n",
      "plt.xticks([])\n",
      "plt.yticks([])\n",
      "\n",
      "plt.subplot(246)\n",
      "plt.imshow(labels, interpolation='nearest', cmap=plt.cm.gray)\n",
      "plt.title('Labels')\n",
      "plt.xticks([])\n",
      "plt.yticks([])\n",
      "\n",
      "plt.subplot(247)\n",
      "plt.imshow(comb, interpolation='nearest', cmap=plt.cm.gray)\n",
      "plt.title('Union')\n",
      "plt.xticks([])\n",
      "plt.yticks([])\n",
      "\n",
      "plt.subplot(248)\n",
      "plt.imshow(diff, interpolation='nearest', cmap=plt.cm.gray)\n",
      "plt.title('Difference')\n",
      "plt.xticks([])\n",
      "plt.yticks([])\n",
      "\n",
      "plt.show()"
     ],
     "language": "python",
     "metadata": {},
     "outputs": [],
     "prompt_number": 132
    },
    {
     "cell_type": "code",
     "collapsed": false,
     "input": [
      "import demo as d\n",
      "import os\n",
      "from math import log10\n",
      "import numpy as np\n",
      "\n",
      "from skimage.io import imsave\n",
      "\n",
      "\n",
      "infolder = \"./output/smoothed/\"\n",
      "\n",
      "for root, dirs, files in os.walk(infolder):\n",
      "    for name in files:\n",
      "\n",
      "        bin_img_ori = (d.load_image(\"../output/bin_ori.jpg\")<125)*1 #>125 for buildings\n",
      "        bin_img_ori = bin_img_ori[5:bin_img_ori.shape[0]-5][5:bin_img_ori.shape[1]-5]\n",
      "        noisy = d.load_image('../output/smoothed/'+name).astype(np.uint8)\n",
      "        noisy = noisy[5:noisy.shape[0]-5][5:noisy.shape[1]-5]\n",
      "        \n",
      "        mark_grad = rank.gradient(noisy, disk(3)) #3 works well\n",
      "        mark_grad_thresh = ((mark_grad < max((threshold_otsu(mark_grad) -7),20) )*1) #(threshold_otsu(mark_grad) -7) #-7 works well\n",
      "        markers = ndimage.label(mark_grad_thresh)[0]\n",
      "\n",
      "        local_grad = rank.gradient(noisy, disk(1)) #1 works well\n",
      "        labels = watershed(local_grad, markers)!=1\n",
      "\n",
      "        comb = np.clip(bin_img_ori + labels ,0,1)\n",
      "\n",
      "        sens = float(np.sum(np.logical_and(labels == bin_img_ori,bin_img_ori!=0)))/float(np.sum(comb))\n",
      "        diff = comb - np.logical_and(labels == bin_img_ori,bin_img_ori!=0)\n",
      "        \n",
      "        bin_img_ori = bin_img_ori/np.max(bin_img_ori)*255\n",
      "        labels = labels/np.max(labels)*255\n",
      "        diff = diff/np.max(diff)*255\n",
      "        \n",
      "        imsave('./output/FPFN Results/watershed/rsb/polys/'+name+'ori.jpg',bin_img_ori)\n",
      "        imsave('./output/FPFN Results/watershed/rsb/polys/'+name+'_watershed.jpg',labels)\n",
      "        imsave('./output/FPFN Results/watershed/rsb/polys/'+name+'_diff.jpg',diff)\n",
      "\n",
      "        \n",
      "        print name,sens"
     ],
     "language": "python",
     "metadata": {},
     "outputs": [
      {
       "output_type": "stream",
       "stream": "stdout",
       "text": [
        "rsb_polys_S&P_10_noisy.jpg 0.990545726856\n",
        "rsb_polys_S&P_20_noisy.jpg"
       ]
      },
      {
       "output_type": "stream",
       "stream": "stdout",
       "text": [
        " 0.988616217225\n",
        "rsb_polys_S&P_50_noisy.jpg"
       ]
      },
      {
       "output_type": "stream",
       "stream": "stdout",
       "text": [
        " 0.957941793632\n",
        "rsb_polys_Spec_10_noisy.jpg"
       ]
      },
      {
       "output_type": "stream",
       "stream": "stdout",
       "text": [
        " 0.992443324937\n",
        "rsb_polys_Spec_25_noisy.jpg"
       ]
      },
      {
       "output_type": "stream",
       "stream": "stdout",
       "text": [
        " 0.987625604764\n",
        "rsb_polys_Spec_50_noisy.jpg"
       ]
      },
      {
       "output_type": "stream",
       "stream": "stdout",
       "text": [
        " 0.963673431563\n"
       ]
      }
     ],
     "prompt_number": 164
    }
   ],
   "metadata": {}
  }
 ]
}