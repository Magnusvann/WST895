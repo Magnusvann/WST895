{
 "metadata": {
  "name": "",
  "signature": "sha256:2e4057a78f7d49439aa212be5012265b264d0739d686541f8169d1b8e2d6225b"
 },
 "nbformat": 3,
 "nbformat_minor": 0,
 "worksheets": [
  {
   "cells": [
    {
     "cell_type": "code",
     "collapsed": false,
     "input": [
      "\n",
      "import numpy as np\n",
      "from matplotlib import pyplot as plt\n",
      "import demo as d\n",
      "import cv2\n",
      "from skimage.filter import threshold_otsu\n",
      "\n",
      "img = d.load_image(\"buildings.jpg\").astype(np.uint8)\n",
      "bin_img_ori = (d.load_image(\"buildings_bin_ori.jpg\")>125)*1\n",
      "\n",
      "\n",
      "noisy = d.load_image(\"../output/smoothed/rsb_buildings_S&P_10_noisy.jpg\")\n",
      "\n",
      "\n",
      "threshold_global_otsu = threshold_otsu(img)\n",
      "\n",
      "\n",
      "\n",
      "suz = np.zeros_like(noisy)\n",
      "threshold_global_otsu = threshold_otsu(noisy)\n",
      "bin_img = ((noisy>threshold_global_otsu)*255).astype(np.uint8)\n",
      "\n",
      "\n",
      "contours, hierarchy = cv2.findContours(bin_img,cv2.RETR_TREE,cv2.CHAIN_APPROX_SIMPLE)\n",
      "cv2.drawContours(suz,contours,-1,(250,250,250),-1) #Last argument 2 if only the border is required\n",
      "suz = ((suz == 0)*1)\n",
      "\n",
      "suz[245:250,:] = bin_img_ori[245:250,:]\n",
      "\n",
      "comb = np.clip(bin_img_ori + suz ,0,1)\n",
      "\n",
      "sens = float(np.sum(np.logical_and(suz == bin_img_ori,bin_img_ori!=0)))/float(np.sum(comb))\n",
      "diff = comb - np.logical_and(suz == bin_img_ori,bin_img_ori!=0)\n",
      "\n",
      "plt.subplot(221)\n",
      "plt.imshow(bin_img_ori, interpolation='nearest', cmap=plt.cm.gray)\n",
      "plt.title('Original Image')\n",
      "plt.xticks([])\n",
      "plt.yticks([])\n",
      "\n",
      "plt.subplot(222)\n",
      "plt.imshow(suz, interpolation='nearest', cmap=plt.cm.gray)\n",
      "plt.title('Border following algorithm')\n",
      "plt.xticks([])\n",
      "plt.yticks([])\n",
      "\n",
      "plt.subplot(223)\n",
      "plt.imshow(comb, interpolation='nearest', cmap=plt.cm.gray)\n",
      "plt.title('Combined')\n",
      "plt.xticks([])\n",
      "plt.yticks([])\n",
      "\n",
      "plt.subplot(224)\n",
      "plt.imshow(diff, interpolation='nearest', cmap=plt.cm.gray)\n",
      "plt.title('Difference')\n",
      "plt.xticks([])\n",
      "plt.yticks([])\n",
      "plt.show()\n",
      "\n",
      "print sens\n",
      "\n",
      "#print img[30:40,30:40]\n",
      "#print bin_img[30:40,30:40]\n",
      "#print msnake.levelset[30:40,30:40]\n",
      "#print comb[30:40,30:40]\n",
      "#print np.logical_and(bin_img[30:40,30:40] == msnake.levelset[30:40,30:40],bin_img[30:40,30:40]!=0)*1\n",
      "#print diff[30:40,30:40]\n"
     ],
     "language": "python",
     "metadata": {},
     "outputs": [
      {
       "output_type": "stream",
       "stream": "stdout",
       "text": [
        "0.916859533559\n"
       ]
      }
     ],
     "prompt_number": 26
    },
    {
     "cell_type": "code",
     "collapsed": false,
     "input": [
      "import demo as d\n",
      "import os\n",
      "from math import log10\n",
      "import numpy as np\n",
      "\n",
      "from skimage.io import imsave\n",
      "\n",
      "\n",
      "infolder = \"./output/smoothed/\"\n",
      "\n",
      "for root, dirs, files in os.walk(infolder):\n",
      "    for name in files:\n",
      "\n",
      "        bin_img_ori = (d.load_image(\"../output/bin_ori.jpg\")>125)*1 #>125 for buildings\n",
      "        noisy = d.load_image('../output/smoothed/'+name)\n",
      "        \n",
      "        threshold_global_otsu = threshold_otsu(noisy)\n",
      "        \n",
      "        suz = np.zeros_like(noisy)\n",
      "        threshold_global_otsu = threshold_otsu(noisy)\n",
      "        bin_img = ((noisy>threshold_global_otsu)*255).astype(np.uint8)\n",
      "\n",
      "\n",
      "        contours, hierarchy = cv2.findContours(bin_img,cv2.RETR_TREE,cv2.CHAIN_APPROX_SIMPLE)\n",
      "        cv2.drawContours(suz,contours,-1,(250,250,250),-1) #Last argument 2 if only the border is required\n",
      "        suz = ((suz == 0)*1)\n",
      "\n",
      "        suz[245:250,:] = bin_img_ori[245:250,:]\n",
      "\n",
      "        comb = np.clip(bin_img_ori + suz ,0,1)\n",
      "\n",
      "        sens = float(np.sum(np.logical_and(suz == bin_img_ori,bin_img_ori!=0)))/float(np.sum(comb))\n",
      "        diff = comb - np.logical_and(suz == bin_img_ori,bin_img_ori!=0)\n",
      "        \n",
      "        bin_img_ori = bin_img_ori/np.max(bin_img_ori)*255\n",
      "        suz = suz/np.max(suz)*255\n",
      "        diff = diff/np.max(diff)*255\n",
      "        \n",
      "        imsave('./output/FPFN Results/rsb/buildings/'+name+'ori.jpg',bin_img_ori)\n",
      "        imsave('./output/FPFN Results/rsb/buildings/'+name+'_suz.jpg',suz)\n",
      "        imsave('./output/FPFN Results/rsb/buildings/'+name+'_diff.jpg',diff)\n",
      "\n",
      "        \n",
      "        print name,sens\n",
      "\n",
      "\n",
      "        "
     ],
     "language": "python",
     "metadata": {},
     "outputs": [
      {
       "output_type": "stream",
       "stream": "stdout",
       "text": [
        "rsb_buildings_S&P_10_noisy.jpg 0.916859533559\n",
        "rsb_buildings_S&P_20_noisy.jpg 0.91583045945\n",
        "rsb_buildings_S&P_50_noisy.jpg"
       ]
      },
      {
       "output_type": "stream",
       "stream": "stdout",
       "text": [
        " 0.910783553142\n",
        "rsb_buildings_Spec_10_noisy.jpg 0.905220688743\n",
        "rsb_buildings_Spec_25_noisy.jpg"
       ]
      },
      {
       "output_type": "stream",
       "stream": "stdout",
       "text": [
        " 0.863730714087\n",
        "rsb_buildings_Spec_50_noisy.jpg"
       ]
      },
      {
       "output_type": "stream",
       "stream": "stdout",
       "text": [
        " 0.75265052228\n"
       ]
      }
     ],
     "prompt_number": 61
    }
   ],
   "metadata": {}
  }
 ]
}