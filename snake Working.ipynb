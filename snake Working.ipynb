{
 "metadata": {
  "name": "",
  "signature": "sha256:90712a77887016a88a048a737ac6ec7f48673ac789e8edcae74b6192a11ebf74"
 },
 "nbformat": 3,
 "nbformat_minor": 0,
 "worksheets": [
  {
   "cells": [
    {
     "cell_type": "code",
     "collapsed": false,
     "input": [
      "import morphsnakes\n",
      "from scipy.misc import imread\n",
      "import numpy as np\n",
      "from matplotlib import pyplot as plt\n",
      "import demo as d\n",
      "from skimage.filter import threshold_otsu\n",
      "\n",
      "def circle_levelset(shape, center, sqradius, scalerow=1.0):\n",
      "    \"\"\"Build a binary function with a circle as the 0.5-levelset.\"\"\"\n",
      "    R, C = np.mgrid[:shape[0], :shape[1]]\n",
      "    phi = sqradius - (np.sqrt(scalerow*(R-center[0])**2 + (C-center[1])**2))\n",
      "    u = np.float_(phi>0)\n",
      "    return u\n",
      "\n",
      "# Load the image.\n",
      "img = d.load_image(\"buildings.jpg\")\n",
      "#noisy = d.load_image(\"original.jpg\")\n",
      "#noisy = d.load_image(\"noisy.jpg\")\n",
      "#noisy = d.load_image(\"rsb_smoothed.jpg\")\n",
      "#noisy = d.load_image(\"cm_smoothed.jpg\")\n",
      "noisy = d.load_image(\"cm_buildings_S&P_10_noisy.jpg\")\n",
      "#noisy = d.load_image(\"lulu_smoothed.jpg\")\n",
      "\n",
      "ver_cen = int(noisy.shape[0]/2)\n",
      "hor_cen = int(noisy.shape[1]/2)\n",
      "\n",
      "\n",
      "# g(I)\n",
      "gI = morphsnakes.gborders(noisy, alpha=1000, sigma=4) #use sigma = 2\n",
      "\n",
      "# Morphological GAC. Initialization of the level-set.\n",
      "mgac = morphsnakes.MorphGAC(gI, smoothing=3, threshold=0.3, balloon=-1) #use smoothing=2 or 3 depending on noise level\n",
      "mgac.levelset = circle_levelset(noisy.shape, (ver_cen, hor_cen), max(ver_cen, hor_cen), scalerow=0.75)\n",
      "\n",
      "num_iters=500\n",
      "msnake = mgac\n",
      "\n",
      "# Iterate.\n",
      "for i in xrange(num_iters):\n",
      "    # Evolve.\n",
      "    msnake.step()\n",
      "\n",
      "threshold_global_otsu = threshold_otsu(img)\n",
      "bin_img = (img<threshold_global_otsu)*1\n",
      "\n",
      "\n",
      "comb = np.clip(bin_img + msnake.levelset,0,1)\n",
      "\n",
      "sens = np.sum(np.logical_and(msnake.levelset == bin_img,bin_img!=0))/np.sum(comb)\n",
      "diff = comb - np.logical_and(msnake.levelset == bin_img,bin_img!=0)\n",
      "\n",
      "plt.subplot(221)\n",
      "plt.imshow(bin_img, interpolation='nearest', cmap=plt.cm.gray)\n",
      "plt.title('Original Image')\n",
      "plt.xticks([])\n",
      "plt.yticks([])\n",
      "\n",
      "plt.subplot(222)\n",
      "plt.imshow(msnake.levelset, interpolation='nearest', cmap=plt.cm.gray)\n",
      "plt.title('Snakes')\n",
      "plt.xticks([])\n",
      "plt.yticks([])\n",
      "\n",
      "plt.subplot(223)\n",
      "plt.imshow(comb, interpolation='nearest', cmap=plt.cm.gray)\n",
      "plt.title('Combined')\n",
      "plt.xticks([])\n",
      "plt.yticks([])\n",
      "\n",
      "plt.subplot(224)\n",
      "plt.imshow(diff, interpolation='nearest', cmap=plt.cm.gray)\n",
      "plt.title('Difference')\n",
      "plt.xticks([])\n",
      "plt.yticks([])\n",
      "plt.show()\n",
      "\n",
      "print sens\n",
      "\n",
      "#print img[30:40,30:40]\n",
      "#print bin_img[30:40,30:40]\n",
      "#print msnake.levelset[30:40,30:40]\n",
      "#print comb[30:40,30:40]\n",
      "#print np.logical_and(bin_img[30:40,30:40] == msnake.levelset[30:40,30:40],bin_img[30:40,30:40]!=0)*1\n",
      "#print diff[30:40,30:40]\n"
     ],
     "language": "python",
     "metadata": {},
     "outputs": [
      {
       "output_type": "stream",
       "stream": "stdout",
       "text": [
        "0.823614812458\n"
       ]
      }
     ],
     "prompt_number": 24
    },
    {
     "cell_type": "code",
     "collapsed": false,
     "input": [
      "import demo as d\n",
      "import os\n",
      "from math import log10\n",
      "import numpy as np\n",
      "\n",
      "from skimage.io import imsave\n",
      "\n",
      "\n",
      "infolder = \"./output/smoothed/\"\n",
      "\n",
      "for root, dirs, files in os.walk(infolder):\n",
      "    for name in files:\n",
      "\n",
      "        bin_img_ori = ((d.load_image(\"../output/bin_ori.jpg\")<125)*1).astype(np.uint8) #>125 for buildings\n",
      "        noisy = d.load_image('../output/smoothed/'+name)\n",
      "        \n",
      "        \n",
      "        ver_cen = int(noisy.shape[0]/2)\n",
      "        hor_cen = int(noisy.shape[1]/2)\n",
      "        \n",
      "        # g(I)\n",
      "        gI = morphsnakes.gborders(noisy, alpha=1000, sigma=5) #use sigma = 2\n",
      "\n",
      "        # Morphological GAC. Initialization of the level-set.\n",
      "        mgac = morphsnakes.MorphGAC(gI, smoothing=3, threshold=0.3, balloon=-1) #use smoothing=2 or 3 depending on noise level\n",
      "        mgac.levelset = circle_levelset(noisy.shape, (ver_cen, hor_cen), max(ver_cen, hor_cen), scalerow=0.75)\n",
      "\n",
      "        num_iters=500\n",
      "        msnake = mgac\n",
      "\n",
      "        # Iterate.\n",
      "        for i in xrange(num_iters):\n",
      "            # Evolve.\n",
      "            msnake.step()\n",
      "            \n",
      "\n",
      "        comb = np.clip(bin_img_ori + msnake.levelset,0,1)\n",
      "\n",
      "        sens = np.sum(np.logical_and(msnake.levelset == bin_img_ori,bin_img_ori!=0))/np.sum(comb)\n",
      "        diff = comb - np.logical_and(msnake.levelset == bin_img_ori,bin_img_ori!=0)\n",
      "        \n",
      "        bin_img_ori = bin_img_ori/np.max(bin_img_ori)*255\n",
      "        snake = msnake.levelset/np.max(msnake.levelset)*255\n",
      "        #diff = diff/np.max(diff)*255\n",
      "        \n",
      "        imsave('./output/FPFN Results/active contours/rsb/polys/'+name+'ori.jpg',bin_img_ori)\n",
      "        imsave('./output/FPFN Results/active contours/rsb/polys/'+name+'_msnake.jpg',msnake.levelset)\n",
      "        imsave('./output/FPFN Results/active contours/rsb/polys/'+name+'_diff.jpg',diff)\n",
      "\n",
      "        \n",
      "        print name,sens\n"
     ],
     "language": "python",
     "metadata": {},
     "outputs": [
      {
       "output_type": "stream",
       "stream": "stdout",
       "text": [
        "rsb_polys_S&P_10_noisy.jpg 0.916845301894\n",
        "rsb_polys_S&P_20_noisy.jpg"
       ]
      },
      {
       "output_type": "stream",
       "stream": "stdout",
       "text": [
        " 0.916094516273\n",
        "rsb_polys_S&P_50_noisy.jpg"
       ]
      },
      {
       "output_type": "stream",
       "stream": "stdout",
       "text": [
        " 0.912709620477\n",
        "rsb_polys_Spec_10_noisy.jpg"
       ]
      },
      {
       "output_type": "stream",
       "stream": "stdout",
       "text": [
        " 0.923691534249\n",
        "rsb_polys_Spec_25_noisy.jpg"
       ]
      },
      {
       "output_type": "stream",
       "stream": "stdout",
       "text": [
        " 0.913619784717\n",
        "rsb_polys_Spec_50_noisy.jpg"
       ]
      },
      {
       "output_type": "stream",
       "stream": "stdout",
       "text": [
        " 0.914389961734\n"
       ]
      }
     ],
     "prompt_number": 48
    },
    {
     "cell_type": "code",
     "collapsed": false,
     "input": [
      "print msnake.levelset\n",
      "print np.max(msnake.levelset)\n",
      "print np.min(msnake.levelset)\n"
     ],
     "language": "python",
     "metadata": {},
     "outputs": [
      {
       "output_type": "stream",
       "stream": "stdout",
       "text": [
        "[[ 0.  0.  0. ...,  0.  0.  0.]\n",
        " [ 0.  0.  0. ...,  0.  0.  0.]\n",
        " [ 0.  0.  0. ...,  0.  0.  0.]\n",
        " ..., \n",
        " [ 0.  0.  0. ...,  0.  0.  0.]\n",
        " [ 0.  0.  0. ...,  0.  0.  0.]\n",
        " [ 0.  0.  0. ...,  0.  0.  0.]]\n",
        "1.0\n",
        "0.0\n"
       ]
      }
     ],
     "prompt_number": 30
    }
   ],
   "metadata": {}
  }
 ]
}